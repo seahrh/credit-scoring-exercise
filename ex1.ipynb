{
 "cells": [
  {
   "cell_type": "code",
   "execution_count": 1,
   "metadata": {},
   "outputs": [],
   "source": [
    "import pandas as pd\n",
    "from sklearn.metrics import roc_auc_score"
   ]
  },
  {
   "cell_type": "code",
   "execution_count": 2,
   "metadata": {},
   "outputs": [
    {
     "name": "stdout",
     "output_type": "stream",
     "text": [
      "<class 'pandas.core.frame.DataFrame'>\n",
      "RangeIndex: 22083 entries, 0 to 22082\n",
      "Data columns (total 5 columns):\n",
      " #   Column  Non-Null Count  Dtype  \n",
      "---  ------  --------------  -----  \n",
      " 0   loanid  22083 non-null  int64  \n",
      " 1   model1  22083 non-null  float64\n",
      " 2   model2  22083 non-null  float64\n",
      " 3   target  22083 non-null  int64  \n",
      " 4   sample  22083 non-null  object \n",
      "dtypes: float64(2), int64(2), object(1)\n",
      "memory usage: 862.7+ KB\n"
     ]
    }
   ],
   "source": [
    "data = pd.read_csv(f'data/ex1.csv')\n",
    "data.info()"
   ]
  },
  {
   "cell_type": "code",
   "execution_count": 3,
   "metadata": {},
   "outputs": [
    {
     "name": "stdout",
     "output_type": "stream",
     "text": [
      "<class 'pandas.core.frame.DataFrame'>\n",
      "Int64Index: 6334 entries, 919 to 22082\n",
      "Data columns (total 5 columns):\n",
      " #   Column  Non-Null Count  Dtype  \n",
      "---  ------  --------------  -----  \n",
      " 0   loanid  6334 non-null   int64  \n",
      " 1   model1  6334 non-null   float64\n",
      " 2   model2  6334 non-null   float64\n",
      " 3   target  6334 non-null   int64  \n",
      " 4   sample  6334 non-null   object \n",
      "dtypes: float64(2), int64(2), object(1)\n",
      "memory usage: 296.9+ KB\n"
     ]
    }
   ],
   "source": [
    "val = data[data['sample'] == 'validation']\n",
    "val.info()"
   ]
  },
  {
   "cell_type": "code",
   "execution_count": 4,
   "metadata": {},
   "outputs": [
    {
     "name": "stdout",
     "output_type": "stream",
     "text": [
      "<class 'pandas.core.frame.DataFrame'>\n",
      "Int64Index: 7965 entries, 0 to 8752\n",
      "Data columns (total 5 columns):\n",
      " #   Column  Non-Null Count  Dtype  \n",
      "---  ------  --------------  -----  \n",
      " 0   loanid  7965 non-null   int64  \n",
      " 1   model1  7965 non-null   float64\n",
      " 2   model2  7965 non-null   float64\n",
      " 3   target  7965 non-null   int64  \n",
      " 4   sample  7965 non-null   object \n",
      "dtypes: float64(2), int64(2), object(1)\n",
      "memory usage: 373.4+ KB\n"
     ]
    }
   ],
   "source": [
    "test = data[data['sample'] == 'testing']\n",
    "test.info()"
   ]
  },
  {
   "cell_type": "code",
   "execution_count": 6,
   "metadata": {},
   "outputs": [
    {
     "name": "stdout",
     "output_type": "stream",
     "text": [
      "validation auc: model1=0.647, model2=0.638\n"
     ]
    }
   ],
   "source": [
    "auc1 = roc_auc_score(val['target'], val['model1'])\n",
    "auc2 = roc_auc_score(val['target'], val['model2'])\n",
    "print(f'validation auc: model1={auc1:0.3f}, model2={auc2:0.3f}')"
   ]
  },
  {
   "cell_type": "code",
   "execution_count": 8,
   "metadata": {},
   "outputs": [
    {
     "name": "stdout",
     "output_type": "stream",
     "text": [
      "test auc: model1=0.730, model2=0.724\n"
     ]
    }
   ],
   "source": [
    "auc1 = roc_auc_score(test['target'], test['model1'])\n",
    "auc2 = roc_auc_score(test['target'], test['model2'])\n",
    "print(f'test auc: model1={auc1:0.3f}, model2={auc2:0.3f}')"
   ]
  },
  {
   "cell_type": "code",
   "execution_count": 12,
   "metadata": {},
   "outputs": [
    {
     "name": "stdout",
     "output_type": "stream",
     "text": [
      "test set acceptance rate: model1=0.998, model2=1.000\n"
     ]
    }
   ],
   "source": [
    "m1 = len(test[test['model1'] <= 0.5]) / len(test)\n",
    "m2 = len(test[test['model2'] <= 0.5]) / len(test)\n",
    "print(f'test set acceptance rate: model1={m1:0.3f}, model2={m2:0.3f}')"
   ]
  },
  {
   "cell_type": "code",
   "execution_count": null,
   "metadata": {},
   "outputs": [],
   "source": []
  }
 ],
 "metadata": {
  "kernelspec": {
   "display_name": "Python 3",
   "language": "python",
   "name": "python3"
  },
  "language_info": {
   "codemirror_mode": {
    "name": "ipython",
    "version": 3
   },
   "file_extension": ".py",
   "mimetype": "text/x-python",
   "name": "python",
   "nbconvert_exporter": "python",
   "pygments_lexer": "ipython3",
   "version": "3.7.5"
  }
 },
 "nbformat": 4,
 "nbformat_minor": 4
}
